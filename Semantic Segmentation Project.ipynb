{
 "cells": [
  {
   "cell_type": "code",
   "execution_count": 1,
   "metadata": {},
   "outputs": [
    {
     "name": "stderr",
     "output_type": "stream",
     "text": [
      "/home/ubuntu/anaconda3/lib/python3.6/site-packages/h5py/__init__.py:36: FutureWarning: Conversion of the second argument of issubdtype from `float` to `np.floating` is deprecated. In future, it will be treated as `np.float64 == np.dtype(float).type`.\n",
      "  from ._conv import register_converters as _register_converters\n",
      "/home/ubuntu/anaconda3/lib/python3.6/site-packages/matplotlib/__init__.py:1067: UserWarning: Duplicate key in file \"/home/ubuntu/.config/matplotlib/matplotlibrc\", line #2\n",
      "  (fname, cnt))\n",
      "/home/ubuntu/anaconda3/lib/python3.6/site-packages/matplotlib/__init__.py:1067: UserWarning: Duplicate key in file \"/home/ubuntu/.config/matplotlib/matplotlibrc\", line #3\n",
      "  (fname, cnt))\n"
     ]
    },
    {
     "name": "stdout",
     "output_type": "stream",
     "text": [
      "TensorFlow Version: 1.4.1\n",
      "Default GPU Device: /device:GPU:0\n"
     ]
    }
   ],
   "source": [
    "# %load main.py\n",
    "import os.path\n",
    "import tensorflow as tf\n",
    "import helper\n",
    "import warnings\n",
    "from tqdm import tqdm\n",
    "from distutils.version import LooseVersion\n",
    "import project_tests as tests\n",
    "import matplotlib.pyplot as plt\n",
    "%matplotlib inline\n",
    "\n",
    "\n",
    "# Check TensorFlow Version\n",
    "assert LooseVersion(tf.__version__) >= LooseVersion('1.0'), 'Please use TensorFlow version 1.0 or newer.  You are using {}'.format(tf.__version__)\n",
    "print('TensorFlow Version: {}'.format(tf.__version__))\n",
    "\n",
    "# Check for a GPU\n",
    "if not tf.test.gpu_device_name():\n",
    "    warnings.warn('No GPU found. Please use a GPU to train your neural network.')\n",
    "else:\n",
    "    print('Default GPU Device: {}'.format(tf.test.gpu_device_name()))"
   ]
  },
  {
   "cell_type": "code",
   "execution_count": 2,
   "metadata": {},
   "outputs": [],
   "source": [
    "# https://github.com/ooleksyuk/CarND-Semantic-Segmentation/blob/master/main.py"
   ]
  },
  {
   "cell_type": "code",
   "execution_count": 3,
   "metadata": {},
   "outputs": [],
   "source": [
    "NUM_CLASSES = 2\n",
    "KEEP_PROB = 0.8\n",
    "LEARNING_RATE = 1e-3\n",
    "EPOCHS = 40\n",
    "BATCH_SIZE = 16\n",
    "L2_REG=1e-6\n",
    "STDDEV=0.01"
   ]
  },
  {
   "cell_type": "code",
   "execution_count": 4,
   "metadata": {},
   "outputs": [
    {
     "name": "stdout",
     "output_type": "stream",
     "text": [
      "Tests Passed\n"
     ]
    }
   ],
   "source": [
    "def load_vgg(sess, vgg_path):\n",
    "    \"\"\"\n",
    "    Load Pretrained VGG Model into TensorFlow.\n",
    "    :param sess: TensorFlow Session\n",
    "    :param vgg_path: Path to vgg folder, containing \"variables/\" and \"saved_model.pb\"\n",
    "    :return: Tuple of Tensors from VGG model (image_input, keep_prob, layer3_out, layer4_out, layer7_out)\n",
    "    \"\"\"\n",
    "    vgg_tag = 'vgg16'\n",
    "    layers = ('image_input:0', 'keep_prob:0', 'layer3_out:0', 'layer4_out:0', 'layer7_out:0')\n",
    "    \n",
    "    tf.saved_model.loader.load(sess, [vgg_tag], vgg_path)\n",
    "    graph = tf.get_default_graph()\n",
    "    return (graph.get_tensor_by_name(l) for l in layers)\n",
    "\n",
    "tests.test_load_vgg(load_vgg, tf)"
   ]
  },
  {
   "cell_type": "code",
   "execution_count": 5,
   "metadata": {},
   "outputs": [
    {
     "name": "stdout",
     "output_type": "stream",
     "text": [
      "Tests Passed\n"
     ]
    }
   ],
   "source": [
    "def conv1x1(value, num_classes):\n",
    "    return tf.layers.conv2d(value, \n",
    "                                num_classes, 1, \n",
    "                                padding='same', \n",
    "                                kernel_initializer=tf.random_normal_initializer(stddev=STDDEV),\n",
    "                                kernel_regularizer=tf.contrib.layers.l2_regularizer(L2_REG))\n",
    "\n",
    "def deconv(value, num_classes, kernel_size, strides):\n",
    "    return tf.layers.conv2d_transpose(value, \n",
    "                                      num_classes, \n",
    "                                      kernel_size, \n",
    "                                      strides=strides, \n",
    "                                      padding='same',\n",
    "                                      kernel_initializer=tf.random_normal_initializer(stddev=STDDEV),\n",
    "                                      kernel_regularizer=tf.contrib.layers.l2_regularizer(L2_REG))\n",
    "\n",
    "def layers(vgg_layer3_out, vgg_layer4_out, vgg_layer7_out, num_classes):\n",
    "    \"\"\"\n",
    "    Create the layers for a fully convolutional network.  Build skip-layers using the vgg layers.\n",
    "    :param vgg_layer3_out: TF Tensor for VGG Layer 3 output\n",
    "    :param vgg_layer4_out: TF Tensor for VGG Layer 4 output\n",
    "    :param vgg_layer7_out: TF Tensor for VGG Layer 7 output\n",
    "    :param num_classes: Number of classes to classify\n",
    "    :return: The Tensor for the last layer of output\n",
    "    \"\"\"\n",
    "    conv_1x1 = conv1x1(vgg_layer7_out, num_classes)\n",
    "    \n",
    "    deconv_1 = deconv(conv_1x1, num_classes, 4, strides=(2, 2))\n",
    "    deconv_1 = tf.add(deconv_1, conv1x1(vgg_layer4_out, num_classes))\n",
    "    \n",
    "    deconv_2 = deconv(deconv_1, num_classes, 4, strides=(2, 2))\n",
    "    deconv_2 = tf.add(deconv_2, conv1x1(vgg_layer3_out, num_classes))\n",
    "    return deconv(deconv_2, num_classes, 16, strides=(8, 8))\n",
    "\n",
    "tests.test_layers(layers)"
   ]
  },
  {
   "cell_type": "code",
   "execution_count": 6,
   "metadata": {},
   "outputs": [
    {
     "name": "stdout",
     "output_type": "stream",
     "text": [
      "Tests Passed\n"
     ]
    }
   ],
   "source": [
    "def optimize(nn_last_layer, correct_label, learning_rate, num_classes):\n",
    "    \"\"\"\n",
    "    Build the TensorFLow loss and optimizer operations.\n",
    "    :param nn_last_layer: TF Tensor of the last layer in the neural network\n",
    "    :param correct_label: TF Placeholder for the correct label image\n",
    "    :param learning_rate: TF Placeholder for the learning rate\n",
    "    :param num_classes: Number of classes to classify\n",
    "    :return: Tuple of (logits, train_op, cross_entropy_loss)\n",
    "    \"\"\"\n",
    "    logits = tf.reshape(nn_last_layer, (-1, num_classes))\n",
    "    loss = tf.reduce_mean(tf.nn.softmax_cross_entropy_with_logits(logits=logits, labels=correct_label))\n",
    "    optimizer = tf.train.AdamOptimizer(learning_rate).minimize(loss)\n",
    "    return logits, optimizer, loss\n",
    "\n",
    "tests.test_optimize(optimize)"
   ]
  },
  {
   "cell_type": "code",
   "execution_count": 7,
   "metadata": {},
   "outputs": [
    {
     "name": "stderr",
     "output_type": "stream",
     "text": [
      "Epoch 1/1: 100%|██████████| 2/2 [00:00<00:00, 496.57it/s]\n"
     ]
    },
    {
     "name": "stdout",
     "output_type": "stream",
     "text": [
      "INFO:tensorflow:Restoring parameters from b'./data/vgg/variables/variables'\n",
      "INFO:tensorflow:Restoring parameters from b'./data/vgg/variables/variables'\n"
     ]
    }
   ],
   "source": [
    "def train_nn(sess, epochs, batch_size, get_batches_fn, train_op, cross_entropy_loss, input_image,\n",
    "             correct_label, keep_prob, learning_rate):\n",
    "    \"\"\"\n",
    "    Train neural network and print out the loss during training.\n",
    "    :param sess: TF Session\n",
    "    :param epochs: Number of epochs\n",
    "    :param batch_size: Batch size\n",
    "    :param get_batches_fn: Function to get batches of training data.  Call using get_batches_fn(batch_size)\n",
    "    :param train_op: TF Operation to train the neural network\n",
    "    :param cross_entropy_loss: TF Tensor for the amount of loss\n",
    "    :param input_image: TF Placeholder for input images\n",
    "    :param correct_label: TF Placeholder for label images\n",
    "    :param keep_prob: TF Placeholder for dropout keep probability\n",
    "    :param learning_rate: TF Placeholder for learning rate\n",
    "    \"\"\"\n",
    "    losses = []\n",
    "    for epoch in range(epochs):\n",
    "        desc = \"Epoch {0}/{1}\".format(epoch+1, epochs)\n",
    "        for images, labels in tqdm(get_batches_fn(batch_size), desc=desc):\n",
    "            _, loss = sess.run([train_op, cross_entropy_loss], \n",
    "                              feed_dict={input_image: images, \n",
    "                                         correct_label: labels, \n",
    "                                         keep_prob: KEEP_PROB, \n",
    "                                         learning_rate: LEARNING_RATE})\n",
    "            losses.append(loss)\n",
    "    return losses\n",
    "            \n",
    "    \n",
    "tests.test_train_nn(train_nn)"
   ]
  },
  {
   "cell_type": "code",
   "execution_count": 8,
   "metadata": {},
   "outputs": [
    {
     "name": "stderr",
     "output_type": "stream",
     "text": [
      "Epoch 1/40: 19it [00:55,  2.20s/it]\n",
      "Epoch 2/40: 19it [00:43,  1.84s/it]\n",
      "Epoch 3/40: 19it [00:43,  1.84s/it]\n",
      "Epoch 4/40: 19it [00:44,  1.85s/it]\n",
      "Epoch 5/40: 19it [00:43,  1.84s/it]\n",
      "Epoch 6/40: 19it [00:44,  1.85s/it]\n",
      "Epoch 7/40: 19it [00:44,  1.85s/it]\n",
      "Epoch 8/40: 19it [00:44,  1.85s/it]\n",
      "Epoch 9/40: 19it [00:44,  1.86s/it]\n",
      "Epoch 10/40: 19it [00:44,  1.85s/it]\n",
      "Epoch 11/40: 19it [00:43,  1.84s/it]\n",
      "Epoch 12/40: 19it [00:43,  1.85s/it]\n",
      "Epoch 13/40: 19it [00:43,  1.84s/it]\n",
      "Epoch 14/40: 19it [00:43,  1.85s/it]\n",
      "Epoch 15/40: 19it [00:43,  1.84s/it]\n",
      "Epoch 16/40: 19it [00:43,  1.85s/it]\n",
      "Epoch 17/40: 19it [00:44,  1.86s/it]\n",
      "Epoch 18/40: 19it [00:44,  1.86s/it]\n",
      "Epoch 19/40: 19it [00:44,  1.86s/it]\n",
      "Epoch 20/40: 19it [00:44,  1.86s/it]\n",
      "Epoch 21/40: 19it [00:44,  1.86s/it]\n",
      "Epoch 22/40: 19it [00:44,  1.86s/it]\n",
      "Epoch 23/40: 19it [00:44,  1.86s/it]\n",
      "Epoch 24/40: 19it [00:44,  1.86s/it]\n",
      "Epoch 25/40: 19it [00:44,  1.86s/it]\n",
      "Epoch 26/40: 19it [00:44,  1.87s/it]\n",
      "Epoch 27/40: 19it [00:44,  1.86s/it]\n",
      "Epoch 28/40: 19it [00:44,  1.86s/it]\n",
      "Epoch 29/40: 19it [00:44,  1.85s/it]\n",
      "Epoch 30/40: 19it [00:43,  1.85s/it]\n",
      "Epoch 31/40: 19it [00:43,  1.85s/it]\n",
      "Epoch 32/40: 19it [00:44,  1.85s/it]\n",
      "Epoch 33/40: 19it [00:44,  1.85s/it]\n",
      "Epoch 34/40: 19it [00:44,  1.86s/it]\n",
      "Epoch 35/40: 19it [00:43,  1.85s/it]\n",
      "Epoch 36/40: 19it [00:43,  1.85s/it]\n",
      "Epoch 37/40: 19it [00:44,  1.85s/it]\n",
      "Epoch 38/40: 19it [00:43,  1.85s/it]\n",
      "Epoch 39/40: 19it [00:44,  1.85s/it]\n",
      "Epoch 40/40: 19it [00:44,  1.85s/it]\n"
     ]
    }
   ],
   "source": [
    "import ssl\n",
    "\n",
    "ssl._create_default_https_context = ssl._create_unverified_context\n",
    "\n",
    "image_shape = (160, 576)\n",
    "data_dir = './data'\n",
    "runs_dir = './runs'\n",
    "tests.test_for_kitti_dataset(data_dir)\n",
    "\n",
    "# Download pretrained vgg model\n",
    "helper.maybe_download_pretrained_vgg(data_dir)\n",
    "\n",
    "# OPTIONAL: Train and Inference on the cityscapes dataset instead of the Kitti dataset.\n",
    "# You'll need a GPU with at least 10 teraFLOPS to train on.\n",
    "#  https://www.cityscapes-dataset.com/\n",
    "\n",
    "tf.reset_default_graph()\n",
    "\n",
    "sess = tf.Session()\n",
    "# Path to vgg model\n",
    "vgg_path = os.path.join(data_dir, 'vgg')\n",
    "# Create function to get batches\n",
    "get_batches_fn = helper.gen_batch_function(os.path.join(data_dir, 'data_road/training'), image_shape)\n",
    "\n",
    "# OPTIONAL: Augment Images for better results\n",
    "#  https://datascience.stackexchange.com/questions/5224/how-to-prepare-augment-images-for-neural-network\n",
    "\n",
    "# TODO: Build NN using load_vgg, layers, and optimize function\n",
    "load_vgg(sess, vgg_path)\n",
    "\n",
    "input_image, keep_prob, layer3, layer4, layer7 = load_vgg(sess, vgg_path)\n",
    "output_layer = layers(layer3, layer4, layer7, NUM_CLASSES)\n",
    "\n",
    "correct_label = tf.placeholder(dtype=tf.float32, shape=(None, None, None, NUM_CLASSES), name='correct_label')\n",
    "learning_rate = tf.placeholder(dtype=tf.float32, name='learning_rate')\n",
    "\n",
    "logits, train_op, cross_entropy_loss = optimize(output_layer, correct_label, learning_rate, NUM_CLASSES)\n",
    "\n",
    "print(\"Initialize variables\")\n",
    "sess.run(tf.global_variables_initializer())\n",
    "\n",
    "print(\"Training network\")\n",
    "losses = train_nn(sess, EPOCHS, BATCH_SIZE, get_batches_fn, train_op, cross_entropy_loss, input_image, correct_label, keep_prob, learning_rate)\n",
    "\n",
    "helper.save_inference_samples(runs_dir, data_dir, sess, image_shape, logits, keep_prob, input_image)\n",
    "# OPTIONAL: Apply the trained model to a video\n",
    "print(\"Done\")\n",
    "\n"
   ]
  },
  {
   "cell_type": "code",
   "execution_count": null,
   "metadata": {},
   "outputs": [],
   "source": [
    "losses"
   ]
  },
  {
   "cell_type": "code",
   "execution_count": 9,
   "metadata": {},
   "outputs": [
    {
     "data": {
      "text/plain": [
       "(0, 1)"
      ]
     },
     "execution_count": 9,
     "metadata": {},
     "output_type": "execute_result"
    },
    {
     "data": {
      "image/png": "[encoded data removed]",
      "text/plain": [
       "<Figure size 432x288 with 1 Axes>"
      ]
     },
     "metadata": {},
     "output_type": "display_data"
    }
   ],
   "source": [
    "plt.plot(losses)\n",
    "plt.ylim(0, 1)"
   ]
  },
  {
   "cell_type": "code",
   "execution_count": 10,
   "metadata": {},
   "outputs": [],
   "source": [
    "from moviepy.editor import VideoFileClip"
   ]
  },
  {
   "cell_type": "code",
   "execution_count": 11,
   "metadata": {},
   "outputs": [],
   "source": [
    "video = VideoFileClip('project_video.mp4')"
   ]
  },
  {
   "cell_type": "code",
   "execution_count": null,
   "metadata": {},
   "outputs": [],
   "source": [
    "def gen_test_output(sess, logits, keep_prob, image_pl, data_folder, image_shape):\n",
    "    for image_file in glob(os.path.join(data_folder, 'image_2', '*.png')):\n",
    "        image = scipy.misc.imresize(scipy.misc.imread(image_file), image_shape)\n",
    "\n",
    "        im_softmax = sess.run(\n",
    "            [tf.nn.softmax(logits)],\n",
    "            {keep_prob: 1.0, image_pl: [image]})\n",
    "        im_softmax = im_softmax[0][:, 1].reshape(image_shape[0], image_shape[1])\n",
    "        segmentation = (im_softmax > 0.5).reshape(image_shape[0], image_shape[1], 1)\n",
    "        mask = np.dot(segmentation, np.array([[0, 255, 0, 127]]))\n",
    "        mask = scipy.misc.toimage(mask, mode=\"RGBA\")\n",
    "        street_im = scipy.misc.toimage(image)\n",
    "        street_im.paste(mask, box=None, mask=mask)\n",
    "\n",
    "        yield os.path.basename(image_file), np.array(street_im)\n",
    "\n"
   ]
  },
  {
   "cell_type": "code",
   "execution_count": null,
   "metadata": {},
   "outputs": [],
   "source": []
  },
  {
   "cell_type": "code",
   "execution_count": null,
   "metadata": {},
   "outputs": [],
   "source": [
    "processed.write_videofile('output_video.mp4', audio=False)"
   ]
  },
  {
   "cell_type": "code",
   "execution_count": 14,
   "metadata": {},
   "outputs": [],
   "source": [
    "import scipy\n",
    "import numpy as np"
   ]
  },
  {
   "cell_type": "code",
   "execution_count": 15,
   "metadata": {},
   "outputs": [],
   "source": [
    "image_shape = (704, 1280)\n",
    "\n",
    "def process_frame(frame):\n",
    "    frame = scipy.misc.imresize(frame, image_shape)\n",
    "    im_softmax = sess.run([tf.nn.softmax(logits)], {keep_prob: 1.0, input_image: [frame]})\n",
    "    im_softmax = im_softmax[0][:, 1].reshape(image_shape[0], image_shape[1])\n",
    "    segmentation = (im_softmax > 0.5).reshape(image_shape[0], image_shape[1], 1)\n",
    "    mask = np.dot(segmentation, np.array([[0, 255, 0, 127]]))\n",
    "    mask = scipy.misc.toimage(mask, mode=\"RGBA\")\n",
    "    street_im = scipy.misc.toimage(frame)\n",
    "    street_im.paste(mask, box=None, mask=mask)\n",
    "    return np.array(street_im)\n",
    "\n"
   ]
  },
  {
   "cell_type": "code",
   "execution_count": 16,
   "metadata": {},
   "outputs": [],
   "source": [
    "f = process_frame(video.get_frame(0))"
   ]
  },
  {
   "cell_type": "code",
   "execution_count": 18,
   "metadata": {},
   "outputs": [],
   "source": [
    "processed = video.fl_image(process_frame)"
   ]
  },
  {
   "cell_type": "code",
   "execution_count": 19,
   "metadata": {},
   "outputs": [
    {
     "name": "stderr",
     "output_type": "stream",
     "text": [
      "100%|█████████▉| 1260/1261 [17:59<00:00,  1.15it/s]\n"
     ]
    }
   ],
   "source": [
    "processed.write_videofile('output_video.mp4', audio=False)"
   ]
  },
  {
   "cell_type": "code",
   "execution_count": null,
   "metadata": {},
   "outputs": [],
   "source": [
    "plt.imshow((frame[0:360][:]))"
   ]
  },
  {
   "cell_type": "code",
   "execution_count": null,
   "metadata": {},
   "outputs": [],
   "source": []
  }
 ],
 "metadata": {
  "kernelspec": {
   "display_name": "Python 3",
   "language": "python",
   "name": "python3"
  },
  "language_info": {
   "codemirror_mode": {
    "name": "ipython",
    "version": 3
   },
   "file_extension": ".py",
   "mimetype": "text/x-python",
   "name": "python",
   "nbconvert_exporter": "python",
   "pygments_lexer": "ipython3",
   "version": "3.6.4"
  },
  "widgets": {
   "state": {},
   "version": "1.1.2"
  }
 },
 "nbformat": 4,
 "nbformat_minor": 2
}
